{
  "cells": [
    {
      "cell_type": "markdown",
      "metadata": {
        "id": "view-in-github",
        "colab_type": "text"
      },
      "source": [
        "<a href=\"https://colab.research.google.com/github/7kylor/7kylor/blob/main/cars_airplaines_classification_pretrained.ipynb\" target=\"_parent\"><img src=\"https://colab.research.google.com/assets/colab-badge.svg\" alt=\"Open In Colab\"/></a>"
      ]
    },
    {
      "cell_type": "code",
      "execution_count": 1,
      "metadata": {
        "id": "XwS3JKt-U1CE",
        "colab": {
          "base_uri": "https://localhost:8080/"
        },
        "outputId": "c096eef5-a5e1-4ca2-e840-418cd957fa6c"
      },
      "outputs": [
        {
          "output_type": "stream",
          "name": "stdout",
          "text": [
            "Mounted at /content/drive\n"
          ]
        }
      ],
      "source": [
        "#My dataset is available in googledrive; so I am accessing my drive from colab\n",
        "from google.colab import drive\n",
        "drive.mount('/content/drive', force_remount=True)\n",
        "#Once this is executed, you will see your drive appearing on the left hand side"
      ]
    },
    {
      "cell_type": "code",
      "execution_count": 2,
      "metadata": {
        "id": "SMPHESYVVnzp"
      },
      "outputs": [],
      "source": [
        "# Define paths to the dataset\n",
        "train_dir = '/content/drive/MyDrive/TrainAI/Train'  # Update with your actual path\n",
        "test_dir = '/content/drive/MyDrive/TrainAI/Test'    # Update with your actual path\n",
        "\n"
      ]
    },
    {
      "cell_type": "code",
      "execution_count": 3,
      "metadata": {
        "colab": {
          "base_uri": "https://localhost:8080/"
        },
        "id": "wwfZiLtU6Ruq",
        "outputId": "c3d47787-23ba-4c0f-ccf1-9e352231ac99"
      },
      "outputs": [
        {
          "output_type": "stream",
          "name": "stdout",
          "text": [
            "67\n",
            "120\n",
            "50\n",
            "120\n"
          ]
        }
      ],
      "source": [
        "\n",
        "import os\n",
        "print(len(os.listdir('/content/drive/MyDrive/TrainAI/Train/cars')))\n",
        "print(len(os.listdir('/content/drive/MyDrive/TrainAI/Train/airplanes')))\n",
        "print(len(os.listdir('/content/drive/MyDrive/TrainAI/Test/cars')))\n",
        "print(len(os.listdir('/content/drive/MyDrive/TrainAI/Train/airplanes')))"
      ]
    },
    {
      "cell_type": "code",
      "execution_count": 4,
      "metadata": {
        "colab": {
          "base_uri": "https://localhost:8080/"
        },
        "id": "kf8li3JNUJR1",
        "outputId": "b906727b-97b4-4d39-dca3-0c9c6051c3a1"
      },
      "outputs": [
        {
          "output_type": "stream",
          "name": "stdout",
          "text": [
            "Found 150 images belonging to 2 classes.\n",
            "Found 37 images belonging to 2 classes.\n"
          ]
        }
      ],
      "source": [
        "import tensorflow as tf\n",
        "from tensorflow.keras.preprocessing.image import ImageDataGenerator\n",
        "\n",
        "# Create ImageDataGenerator for training set\n",
        "train_datagen = ImageDataGenerator(\n",
        "    rescale=1./255,\n",
        "    validation_split=0.2  # Split 20% of the images for validation\n",
        ")\n",
        "\n",
        "# Load and prepare training data\n",
        "train_data = train_datagen.flow_from_directory(\n",
        "    train_dir,\n",
        "    target_size=(256,256),\n",
        "    batch_size=32,\n",
        "    class_mode='binary',  # 'binary' for binary classification (cats vs. dogs)\n",
        "    subset='training'  # Specify 'training' for the training set\n",
        ")\n",
        "\n",
        "# Create ImageDataGenerator for validation set\n",
        "validation_datagen = ImageDataGenerator(\n",
        "    rescale=1./255,\n",
        "    validation_split=0.2  # Note: Using the same validation split as in the training set\n",
        ")\n",
        "\n",
        "# Load and prepare validation data\n",
        "validation_data = validation_datagen.flow_from_directory(\n",
        "    train_dir,\n",
        "    target_size=(256,256),\n",
        "    batch_size=32,\n",
        "    class_mode='binary',\n",
        "    subset='validation'  # Specify 'validation' for the validation set\n",
        ")"
      ]
    },
    {
      "cell_type": "code",
      "source": [
        "from tensorflow import keras\n",
        "from keras import Sequential\n",
        "from keras.layers import Dense,Conv2D,MaxPooling2D,Flatten\n",
        "\n",
        "resnet_model = Sequential()    #ResNet50 is a pre-trained model\n",
        "pretrained_model = tf.keras.applications.ResNet50(include_top = False, #because i have my own image of a diff dimension\n",
        "                                                input_shape = (256,256,3),\n",
        "                                                pooling = 'max', classes = 2,\n",
        "                                                weights = 'imagenet')\n",
        "for layer in pretrained_model.layers:\n",
        "    layer.trainable = False  #all layers in the Resnet50 is not trainable; keep those weights; I am going to add my own i/p and other layers\n",
        "\n",
        "resnet_model.add(pretrained_model)\n",
        "resnet_model.add(Flatten())\n",
        "resnet_model.add(Dense(512, activation = 'relu'))\n",
        "resnet_model.add(Dense(1, activation = 'sigmoid'))"
      ],
      "metadata": {
        "id": "ja7Bv3UkSlKz",
        "outputId": "20c4ef88-d023-4b47-fef3-f4dbb5b6d861",
        "colab": {
          "base_uri": "https://localhost:8080/"
        }
      },
      "execution_count": 5,
      "outputs": [
        {
          "output_type": "stream",
          "name": "stdout",
          "text": [
            "Downloading data from https://storage.googleapis.com/tensorflow/keras-applications/resnet/resnet50_weights_tf_dim_ordering_tf_kernels_notop.h5\n",
            "94765736/94765736 [==============================] - 1s 0us/step\n"
          ]
        }
      ]
    },
    {
      "cell_type": "code",
      "source": [
        "resnet_model.summary()"
      ],
      "metadata": {
        "colab": {
          "base_uri": "https://localhost:8080/"
        },
        "id": "dDZwlEw9VSVh",
        "outputId": "0af40152-6da4-4f40-a86f-b2847807e64c"
      },
      "execution_count": 6,
      "outputs": [
        {
          "output_type": "stream",
          "name": "stdout",
          "text": [
            "Model: \"sequential\"\n",
            "_________________________________________________________________\n",
            " Layer (type)                Output Shape              Param #   \n",
            "=================================================================\n",
            " resnet50 (Functional)       (None, 2048)              23587712  \n",
            "                                                                 \n",
            " flatten (Flatten)           (None, 2048)              0         \n",
            "                                                                 \n",
            " dense (Dense)               (None, 512)               1049088   \n",
            "                                                                 \n",
            " dense_1 (Dense)             (None, 1)                 513       \n",
            "                                                                 \n",
            "=================================================================\n",
            "Total params: 24,637,313\n",
            "Trainable params: 1,049,601\n",
            "Non-trainable params: 23,587,712\n",
            "_________________________________________________________________\n"
          ]
        }
      ]
    },
    {
      "cell_type": "code",
      "execution_count": 7,
      "metadata": {
        "id": "SeBjyn0iWXgY"
      },
      "outputs": [],
      "source": [
        "from keras.optimizers import Adam\n",
        "resnet_model.compile(optimizer=Adam(learning_rate=0.001),loss='binary_crossentropy',metrics=['accuracy']) #binary_crossentropy - binary classification"
      ]
    },
    {
      "cell_type": "code",
      "execution_count": 8,
      "metadata": {
        "colab": {
          "base_uri": "https://localhost:8080/"
        },
        "id": "lGbY2VpIWbTt",
        "outputId": "42c42b71-29bd-4397-91e4-3bb25afeb559"
      },
      "outputs": [
        {
          "output_type": "stream",
          "name": "stdout",
          "text": [
            "Epoch 1/3\n",
            "5/5 [==============================] - 76s 14s/step - loss: 5.1476 - accuracy: 0.4400 - val_loss: 3.5867 - val_accuracy: 0.6486\n",
            "Epoch 2/3\n",
            "5/5 [==============================] - 62s 11s/step - loss: 2.5068 - accuracy: 0.6933 - val_loss: 0.0891 - val_accuracy: 1.0000\n",
            "Epoch 3/3\n",
            "5/5 [==============================] - 53s 11s/step - loss: 0.7149 - accuracy: 0.6200 - val_loss: 0.0266 - val_accuracy: 0.9730\n"
          ]
        }
      ],
      "source": [
        "history = resnet_model.fit(train_data, epochs=3, validation_data=validation_data)"
      ]
    },
    {
      "cell_type": "code",
      "execution_count": 9,
      "metadata": {
        "id": "g21dMlSOWKas",
        "colab": {
          "base_uri": "https://localhost:8080/",
          "height": 430
        },
        "outputId": "cec36eaa-a447-4199-ed52-a37c8803c423"
      },
      "outputs": [
        {
          "output_type": "display_data",
          "data": {
            "text/plain": [
              "<Figure size 640x480 with 1 Axes>"
            ],
            "image/png": "[encoded data removed]"
          },
          "metadata": {}
        }
      ],
      "source": [
        "import matplotlib.pyplot as plt\n",
        "\n",
        "plt.plot(history.history['accuracy'],color='red',label='train')\n",
        "plt.plot(history.history['val_accuracy'],color='blue',label='validation')\n",
        "plt.legend()\n",
        "plt.show()"
      ]
    },
    {
      "cell_type": "code",
      "execution_count": 10,
      "metadata": {
        "id": "FYZ0VJp4esXl",
        "colab": {
          "base_uri": "https://localhost:8080/",
          "height": 430
        },
        "outputId": "f04905a1-09b1-45bc-fe6e-2da959bf3c6d"
      },
      "outputs": [
        {
          "output_type": "display_data",
          "data": {
            "text/plain": [
              "<Figure size 640x480 with 1 Axes>"
            ],
            "image/png": "[encoded data removed]"
          },
          "metadata": {}
        }
      ],
      "source": [
        "plt.plot(history.history['loss'],color='red',label='train')\n",
        "plt.plot(history.history['val_loss'],color='blue',label='validation')\n",
        "plt.legend()\n",
        "plt.show()"
      ]
    },
    {
      "cell_type": "code",
      "execution_count": 11,
      "metadata": {
        "id": "tQj_RyrZWBEt",
        "colab": {
          "base_uri": "https://localhost:8080/"
        },
        "outputId": "be92966f-460e-4a0b-c1af-cacb00200c33"
      },
      "outputs": [
        {
          "output_type": "stream",
          "name": "stdout",
          "text": [
            "Found 280 images belonging to 2 classes.\n"
          ]
        }
      ],
      "source": [
        "test_datagen = ImageDataGenerator(rescale=1./255)\n",
        "test_data = test_datagen.flow_from_directory(\n",
        "    test_dir,\n",
        "    target_size=(256,256),\n",
        "    batch_size=32,\n",
        "    class_mode='binary'\n",
        ")"
      ]
    },
    {
      "cell_type": "code",
      "execution_count": 12,
      "metadata": {
        "id": "glicW8_5vTqd",
        "colab": {
          "base_uri": "https://localhost:8080/"
        },
        "outputId": "765a78f8-58ed-4fd9-ce5d-e66a73fc6a4e"
      },
      "outputs": [
        {
          "output_type": "stream",
          "name": "stdout",
          "text": [
            "9/9 [==============================] - 82s 9s/step\n",
            "[[0.02075604]\n",
            " [0.01036663]\n",
            " [0.00301171]\n",
            " [0.00597762]\n",
            " [0.00244851]\n",
            " [0.0045694 ]\n",
            " [0.00283616]\n",
            " [0.02728806]\n",
            " [0.00430649]\n",
            " [0.00378426]\n",
            " [0.00226107]\n",
            " [0.00399735]\n",
            " [0.00221615]\n",
            " [0.0089096 ]\n",
            " [0.27358335]\n",
            " [0.00320202]\n",
            " [0.08936718]\n",
            " [0.01471403]\n",
            " [0.00268984]\n",
            " [0.00270852]\n",
            " [0.0038887 ]\n",
            " [0.41347718]\n",
            " [0.00463767]\n",
            " [0.00313162]\n",
            " [0.00461755]\n",
            " [0.02636475]\n",
            " [0.00384486]\n",
            " [0.00443122]\n",
            " [0.00210193]\n",
            " [0.0047557 ]\n",
            " [0.00509336]\n",
            " [0.00294036]\n",
            " [0.00221398]\n",
            " [0.00233694]\n",
            " [0.00305095]\n",
            " [0.00280377]\n",
            " [0.00556751]\n",
            " [0.01077367]\n",
            " [0.9537899 ]\n",
            " [0.01135177]\n",
            " [0.01204065]\n",
            " [0.0079021 ]\n",
            " [0.00179223]\n",
            " [0.06953403]\n",
            " [0.00196111]\n",
            " [0.00355864]\n",
            " [0.00776592]\n",
            " [0.01003481]\n",
            " [0.02283841]\n",
            " [0.00325439]\n",
            " [0.00788348]\n",
            " [0.9945857 ]\n",
            " [0.3548198 ]\n",
            " [0.03024131]\n",
            " [0.00771774]\n",
            " [0.04682991]\n",
            " [0.00687421]\n",
            " [0.00229211]\n",
            " [0.00465951]\n",
            " [0.00292297]\n",
            " [0.00197313]\n",
            " [0.00764682]\n",
            " [0.45827034]\n",
            " [0.00364636]\n",
            " [0.00223327]\n",
            " [0.00357219]\n",
            " [0.00223998]\n",
            " [0.04684623]\n",
            " [0.99863815]\n",
            " [1.        ]\n",
            " [0.00249879]\n",
            " [0.00673828]\n",
            " [0.00635138]\n",
            " [0.36844507]\n",
            " [0.01227682]\n",
            " [0.00380256]\n",
            " [0.00226731]\n",
            " [0.0035235 ]\n",
            " [0.00429622]\n",
            " [0.00706875]\n",
            " [0.01573125]\n",
            " [0.976773  ]\n",
            " [0.00295058]\n",
            " [0.00412044]\n",
            " [0.0018115 ]\n",
            " [0.99894315]\n",
            " [0.00240813]\n",
            " [0.00539712]\n",
            " [0.13044076]\n",
            " [0.00465974]\n",
            " [0.00345352]\n",
            " [0.51104456]\n",
            " [0.00242536]\n",
            " [0.54559875]\n",
            " [0.00748959]\n",
            " [0.5502116 ]\n",
            " [0.00178123]\n",
            " [0.7646954 ]\n",
            " [0.141124  ]\n",
            " [0.00338251]\n",
            " [0.00559698]\n",
            " [0.00511474]\n",
            " [0.00917946]\n",
            " [0.30071023]\n",
            " [0.00355002]\n",
            " [0.00567804]\n",
            " [0.01273559]\n",
            " [0.01379076]\n",
            " [0.9903098 ]\n",
            " [0.00365197]\n",
            " [0.0069666 ]\n",
            " [0.00434225]\n",
            " [0.00304044]\n",
            " [0.00255933]\n",
            " [0.02096006]\n",
            " [0.00759567]\n",
            " [0.00495471]\n",
            " [0.96738136]\n",
            " [0.00666866]\n",
            " [0.99546623]\n",
            " [0.00274086]\n",
            " [0.00693686]\n",
            " [0.00549514]\n",
            " [0.00270945]\n",
            " [0.00516006]\n",
            " [0.01749226]\n",
            " [0.00356276]\n",
            " [0.00301119]\n",
            " [0.00569711]\n",
            " [0.00334894]\n",
            " [0.00281689]\n",
            " [0.00913643]\n",
            " [0.00236446]\n",
            " [0.8152951 ]\n",
            " [0.01044932]\n",
            " [0.0033737 ]\n",
            " [0.00518943]\n",
            " [0.00522853]\n",
            " [0.00441978]\n",
            " [0.0046098 ]\n",
            " [0.00406713]\n",
            " [0.0136959 ]\n",
            " [0.01082703]\n",
            " [0.00405988]\n",
            " [0.9878998 ]\n",
            " [0.9867676 ]\n",
            " [0.01022444]\n",
            " [0.00426506]\n",
            " [0.00337336]\n",
            " [0.00888226]\n",
            " [0.9992939 ]\n",
            " [0.00411325]\n",
            " [0.44603658]\n",
            " [0.04551328]\n",
            " [0.00439716]\n",
            " [0.00198689]\n",
            " [0.00360522]\n",
            " [0.01696808]\n",
            " [0.00741698]\n",
            " [0.00274617]\n",
            " [0.0024399 ]\n",
            " [0.00582272]\n",
            " [0.00397093]\n",
            " [0.60695976]\n",
            " [0.0054045 ]\n",
            " [0.95361835]\n",
            " [0.00355608]\n",
            " [0.00461039]\n",
            " [0.00287099]\n",
            " [0.00213967]\n",
            " [0.00404005]\n",
            " [0.0049809 ]\n",
            " [0.01278174]\n",
            " [0.00512367]\n",
            " [0.00318783]\n",
            " [0.00489298]\n",
            " [0.6106388 ]\n",
            " [0.00528663]\n",
            " [0.0091342 ]\n",
            " [0.84174377]\n",
            " [0.01920033]\n",
            " [0.01282437]\n",
            " [0.0063191 ]\n",
            " [0.99192476]\n",
            " [0.00679475]\n",
            " [0.03880724]\n",
            " [0.0046402 ]\n",
            " [0.00425766]\n",
            " [0.00543453]\n",
            " [0.00408187]\n",
            " [0.00418032]\n",
            " [0.00282568]\n",
            " [0.01322974]\n",
            " [0.00388486]\n",
            " [0.04464145]\n",
            " [0.00553698]\n",
            " [0.8805646 ]\n",
            " [0.05306269]\n",
            " [0.83311796]\n",
            " [0.00320172]\n",
            " [0.9958492 ]\n",
            " [0.99473614]\n",
            " [0.00633311]\n",
            " [0.05787664]\n",
            " [0.01725494]\n",
            " [0.01608635]\n",
            " [0.00191026]\n",
            " [0.00902904]\n",
            " [0.00235766]\n",
            " [0.00733341]\n",
            " [0.00189676]\n",
            " [0.00327477]\n",
            " [0.00259382]\n",
            " [0.8810437 ]\n",
            " [0.0024305 ]\n",
            " [0.00436073]\n",
            " [0.00575762]\n",
            " [0.86556286]\n",
            " [0.00190058]\n",
            " [0.15301228]\n",
            " [0.95920956]\n",
            " [0.00888537]\n",
            " [0.00437668]\n",
            " [0.9986597 ]\n",
            " [0.00495557]\n",
            " [0.01243119]\n",
            " [0.00660528]\n",
            " [0.00390378]\n",
            " [0.8398518 ]\n",
            " [0.9050631 ]\n",
            " [0.12358086]\n",
            " [0.00494792]\n",
            " [0.01064889]\n",
            " [0.00283578]\n",
            " [0.00358358]\n",
            " [0.00283142]\n",
            " [0.00268933]\n",
            " [0.02047825]\n",
            " [0.01258963]\n",
            " [0.0112382 ]\n",
            " [0.00471828]\n",
            " [0.00472058]\n",
            " [0.46988663]\n",
            " [0.00455031]\n",
            " [0.00337173]\n",
            " [0.01333108]\n",
            " [0.00262144]\n",
            " [0.00240278]\n",
            " [0.9878986 ]\n",
            " [0.00434646]\n",
            " [0.8465743 ]\n",
            " [0.00345878]\n",
            " [0.00431726]\n",
            " [0.0042635 ]\n",
            " [0.01099923]\n",
            " [0.0057504 ]\n",
            " [0.01342946]\n",
            " [0.00296667]\n",
            " [0.00320203]\n",
            " [0.00279912]\n",
            " [0.00543179]\n",
            " [0.00702826]\n",
            " [0.00575082]\n",
            " [0.53015476]\n",
            " [0.00341535]\n",
            " [0.00687145]\n",
            " [0.0059068 ]\n",
            " [0.00528841]\n",
            " [0.01310314]\n",
            " [0.00446051]\n",
            " [0.00385321]\n",
            " [0.12669717]\n",
            " [0.0023589 ]\n",
            " [0.00252211]\n",
            " [0.00368918]\n",
            " [0.00715646]\n",
            " [0.00243356]\n",
            " [0.38759285]\n",
            " [0.0088353 ]\n",
            " [0.01734678]]\n"
          ]
        }
      ],
      "source": [
        "#predict the test data\n",
        "predictions = resnet_model.predict(test_data)\n",
        "print(predictions)"
      ]
    },
    {
      "cell_type": "code",
      "execution_count": 13,
      "metadata": {
        "id": "r7XjnjcNyMbv",
        "colab": {
          "base_uri": "https://localhost:8080/"
        },
        "outputId": "304674d7-47d8-4531-90ae-b84b772c8072"
      },
      "outputs": [
        {
          "output_type": "execute_result",
          "data": {
            "text/plain": [
              "280"
            ]
          },
          "metadata": {},
          "execution_count": 13
        }
      ],
      "source": [
        "len(predictions)"
      ]
    },
    {
      "cell_type": "code",
      "execution_count": 14,
      "metadata": {
        "id": "oqqBXpuhyd6x",
        "colab": {
          "base_uri": "https://localhost:8080/"
        },
        "outputId": "f0ebff6e-9d60-49a3-8f42-180f4892f475"
      },
      "outputs": [
        {
          "output_type": "stream",
          "name": "stdout",
          "text": [
            "Confusion Matrix:\n",
            "[[198  32]\n",
            " [ 47   3]]\n",
            "Classification Report:\n",
            "              precision    recall  f1-score   support\n",
            "\n",
            "           0       0.81      0.86      0.83       230\n",
            "           1       0.09      0.06      0.07        50\n",
            "\n",
            "    accuracy                           0.72       280\n",
            "   macro avg       0.45      0.46      0.45       280\n",
            "weighted avg       0.68      0.72      0.70       280\n",
            "\n"
          ]
        }
      ],
      "source": [
        "from sklearn.metrics import confusion_matrix, classification_report\n",
        "\n",
        "# Assuming you have ground truth labels (true_labels) and predicted labels (predictions)\n",
        "true_labels = test_data.classes\n",
        "predicted_labels = (predictions > 0.5).astype(int)  # Adjust the threshold as needed\n",
        "\n",
        "# Calculate confusion matrix\n",
        "cm = confusion_matrix(true_labels, predicted_labels)\n",
        "\n",
        "# Print confusion matrix\n",
        "print(\"Confusion Matrix:\")\n",
        "print(cm)\n",
        "\n",
        "# Print classification report\n",
        "print(\"Classification Report:\")\n",
        "print(classification_report(true_labels, predicted_labels))"
      ]
    }
  ],
  "metadata": {
    "accelerator": "TPU",
    "colab": {
      "provenance": [],
      "include_colab_link": true
    },
    "kernelspec": {
      "display_name": "Python 3",
      "name": "python3"
    },
    "language_info": {
      "name": "python"
    }
  },
  "nbformat": 4,
  "nbformat_minor": 0
}