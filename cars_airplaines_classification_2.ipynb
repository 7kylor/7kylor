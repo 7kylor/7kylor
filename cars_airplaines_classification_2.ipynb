{
  "cells": [
    {
      "cell_type": "markdown",
      "metadata": {
        "id": "view-in-github",
        "colab_type": "text"
      },
      "source": [
        "<a href=\"https://colab.research.google.com/github/7kylor/7kylor/blob/main/cars_airplaines_classification_2.ipynb\" target=\"_parent\"><img src=\"https://colab.research.google.com/assets/colab-badge.svg\" alt=\"Open In Colab\"/></a>"
      ]
    },
    {
      "cell_type": "code",
      "execution_count": null,
      "metadata": {
        "colab": {
          "base_uri": "https://localhost:8080/"
        },
        "id": "XwS3JKt-U1CE",
        "outputId": "c3e26045-c7c9-4f03-9c3f-73255853d3f0"
      },
      "outputs": [
        {
          "output_type": "stream",
          "name": "stdout",
          "text": [
            "Mounted at /content/drive\n"
          ]
        }
      ],
      "source": [
        "#My dataset is available in googledrive; so I am accessing my drive from colab\n",
        "from google.colab import drive\n",
        "drive.mount('/content/drive', force_remount=True)\n",
        "#Once this is executed, you will see your drive appearing on the left hand side"
      ]
    },
    {
      "cell_type": "code",
      "execution_count": null,
      "metadata": {
        "id": "SMPHESYVVnzp"
      },
      "outputs": [],
      "source": [
        "# Define paths to the dataset\n",
        "train_dir = '/content/drive/MyDrive/TrainAI/Train'  # Update with your actual path\n",
        "test_dir = '/content/drive/MyDrive/TrainAI/Test'    # Update with your actual path"
      ]
    },
    {
      "cell_type": "code",
      "execution_count": null,
      "metadata": {
        "colab": {
          "base_uri": "https://localhost:8080/"
        },
        "id": "wwfZiLtU6Ruq",
        "outputId": "8e59788d-9144-4ad3-9f8c-0999c56e2e10"
      },
      "outputs": [
        {
          "output_type": "stream",
          "name": "stdout",
          "text": [
            "67\n",
            "120\n",
            "50\n",
            "120\n"
          ]
        }
      ],
      "source": [
        "import os\n",
        "print(len(os.listdir('/content/drive/MyDrive/TrainAI/Train/cars')))\n",
        "print(len(os.listdir('/content/drive/MyDrive/TrainAI/Train/airplanes')))\n",
        "print(len(os.listdir('/content/drive/MyDrive/TrainAI/Test/cars')))\n",
        "print(len(os.listdir('/content/drive/MyDrive/TrainAI/Train/airplanes')))"
      ]
    },
    {
      "cell_type": "code",
      "execution_count": null,
      "metadata": {
        "colab": {
          "base_uri": "https://localhost:8080/"
        },
        "id": "kf8li3JNUJR1",
        "outputId": "814aaadc-edb6-4dd4-8c2c-c89c1219a9b6"
      },
      "outputs": [
        {
          "output_type": "stream",
          "name": "stdout",
          "text": [
            "Found 150 images belonging to 2 classes.\n",
            "Found 37 images belonging to 2 classes.\n"
          ]
        }
      ],
      "source": [
        "import tensorflow as tf\n",
        "from tensorflow.keras.preprocessing.image import ImageDataGenerator\n",
        "\n",
        "# Create ImageDataGenerator for training set\n",
        "train_datagen = ImageDataGenerator(\n",
        "    rescale=1./255,\n",
        "    validation_split=0.2  # Split 20% of the images for validation\n",
        ")\n",
        "\n",
        "# Load and prepare training data\n",
        "train_data = train_datagen.flow_from_directory(\n",
        "    train_dir,\n",
        "    target_size=(256,256),\n",
        "    batch_size=32,\n",
        "    class_mode='binary',  # 'binary' for binary classification (cats vs. dogs)\n",
        "    subset='training'  # Specify 'training' for the training set\n",
        ")\n",
        "\n",
        "# Create ImageDataGenerator for validation set\n",
        "validation_datagen = ImageDataGenerator(\n",
        "    rescale=1./255,\n",
        "    validation_split=0.2  # Note: Using the same validation split as in the training set\n",
        ")\n",
        "\n",
        "# Load and prepare validation data\n",
        "validation_data = validation_datagen.flow_from_directory(\n",
        "    train_dir,\n",
        "    target_size=(256,256),\n",
        "    batch_size=32,\n",
        "    class_mode='binary',\n",
        "    subset='validation'  # Specify 'validation' for the validation set\n",
        ")"
      ]
    },
    {
      "cell_type": "code",
      "execution_count": null,
      "metadata": {
        "id": "wGp6oIfQWMFh"
      },
      "outputs": [],
      "source": [
        "from tensorflow import keras\n",
        "from keras import Sequential\n",
        "from keras.layers import Dense,Conv2D,MaxPooling2D,Flatten,BatchNormalization,UpSampling2D, Dropout"
      ]
    },
    {
      "cell_type": "code",
      "execution_count": null,
      "metadata": {
        "id": "6liLEEzLWNB5"
      },
      "outputs": [],
      "source": [
        "# create CNN model\n",
        "\n",
        "model = Sequential()\n",
        "\n",
        "model.add(Conv2D(32,kernel_size=(3,3),padding='valid',activation='relu',input_shape=(256,256,3)))  # 32 filters\n",
        "#model.add(BatchNormalization())  # added to reduce overfitting\n",
        "model.add(MaxPooling2D(pool_size=(2,2),strides=2,padding='valid'))\n",
        "\n",
        "model.add(Conv2D(64,kernel_size=(3,3),padding='valid',activation='relu'))\n",
        "#model.add(BatchNormalization())  # added to reduce overfitting\n",
        "model.add(MaxPooling2D(pool_size=(2,2),strides=2,padding='valid'))\n",
        "\n",
        "model.add(Conv2D(128,kernel_size=(3,3),padding='valid',activation='relu'))\n",
        "#model.add(BatchNormalization())  # added to reduce overfitting\n",
        "model.add(MaxPooling2D(pool_size=(2,2),strides=2,padding='valid'))\n",
        "\n",
        "model.add(Flatten())\n",
        "\n",
        "model.add(Dense(128,activation='relu')) #feature reduction\n",
        "#model.add(Dropout(0.1))  # added to reduce overfitting\n",
        "model.add(Dense(64,activation='relu'))\n",
        "#model.add(Dropout(0.1))  # added to reduce overfitting\n",
        "model.add(Dense(1,activation='sigmoid'))  #output layer"
      ]
    },
    {
      "cell_type": "code",
      "execution_count": null,
      "metadata": {
        "id": "SeBjyn0iWXgY"
      },
      "outputs": [],
      "source": [
        "from keras.optimizers import Adam\n",
        "model.compile(optimizer=Adam(learning_rate=0.001),loss='binary_crossentropy',metrics=['accuracy']) #binary_crossentropy - binary classification"
      ]
    },
    {
      "cell_type": "code",
      "execution_count": null,
      "metadata": {
        "colab": {
          "base_uri": "https://localhost:8080/"
        },
        "id": "lGbY2VpIWbTt",
        "outputId": "8d8848c5-2ca6-4450-b41b-787b547b9b51"
      },
      "outputs": [
        {
          "output_type": "stream",
          "name": "stdout",
          "text": [
            "Epoch 1/30\n",
            "5/5 [==============================] - 35s 6s/step - loss: 1.7421 - accuracy: 0.5667 - val_loss: 0.4394 - val_accuracy: 0.8649\n",
            "Epoch 2/30\n",
            "5/5 [==============================] - 29s 6s/step - loss: 0.3890 - accuracy: 0.8933 - val_loss: 0.2236 - val_accuracy: 0.9730\n",
            "Epoch 3/30\n",
            "5/5 [==============================] - 30s 6s/step - loss: 0.1069 - accuracy: 0.9800 - val_loss: 0.0979 - val_accuracy: 0.9459\n",
            "Epoch 4/30\n",
            "5/5 [==============================] - 27s 6s/step - loss: 0.0116 - accuracy: 1.0000 - val_loss: 0.0026 - val_accuracy: 1.0000\n",
            "Epoch 5/30\n",
            "5/5 [==============================] - 26s 5s/step - loss: 0.0045 - accuracy: 1.0000 - val_loss: 0.4070 - val_accuracy: 0.8919\n",
            "Epoch 6/30\n",
            "5/5 [==============================] - 28s 6s/step - loss: 0.0874 - accuracy: 0.9733 - val_loss: 2.2783e-04 - val_accuracy: 1.0000\n",
            "Epoch 7/30\n",
            "5/5 [==============================] - 29s 6s/step - loss: 0.0172 - accuracy: 0.9933 - val_loss: 0.0812 - val_accuracy: 0.9730\n",
            "Epoch 8/30\n",
            "5/5 [==============================] - 29s 6s/step - loss: 0.0086 - accuracy: 1.0000 - val_loss: 0.0071 - val_accuracy: 1.0000\n",
            "Epoch 9/30\n",
            "5/5 [==============================] - 29s 6s/step - loss: 6.1993e-04 - accuracy: 1.0000 - val_loss: 0.0016 - val_accuracy: 1.0000\n",
            "Epoch 10/30\n",
            "5/5 [==============================] - 26s 6s/step - loss: 0.0030 - accuracy: 1.0000 - val_loss: 9.8945e-04 - val_accuracy: 1.0000\n",
            "Epoch 11/30\n",
            "5/5 [==============================] - 26s 5s/step - loss: 5.3528e-04 - accuracy: 1.0000 - val_loss: 0.0021 - val_accuracy: 1.0000\n",
            "Epoch 12/30\n",
            "5/5 [==============================] - 28s 5s/step - loss: 3.8177e-04 - accuracy: 1.0000 - val_loss: 0.0034 - val_accuracy: 1.0000\n",
            "Epoch 13/30\n",
            "5/5 [==============================] - 33s 7s/step - loss: 4.6774e-04 - accuracy: 1.0000 - val_loss: 0.0044 - val_accuracy: 1.0000\n",
            "Epoch 14/30\n",
            "5/5 [==============================] - 28s 6s/step - loss: 4.6805e-04 - accuracy: 1.0000 - val_loss: 0.0045 - val_accuracy: 1.0000\n",
            "Epoch 15/30\n",
            "5/5 [==============================] - 30s 6s/step - loss: 4.0476e-04 - accuracy: 1.0000 - val_loss: 0.0040 - val_accuracy: 1.0000\n",
            "Epoch 16/30\n",
            "5/5 [==============================] - 27s 6s/step - loss: 3.3363e-04 - accuracy: 1.0000 - val_loss: 0.0033 - val_accuracy: 1.0000\n",
            "Epoch 17/30\n",
            "5/5 [==============================] - 26s 5s/step - loss: 2.6204e-04 - accuracy: 1.0000 - val_loss: 0.0027 - val_accuracy: 1.0000\n",
            "Epoch 18/30\n",
            "5/5 [==============================] - 28s 5s/step - loss: 2.0353e-04 - accuracy: 1.0000 - val_loss: 0.0022 - val_accuracy: 1.0000\n",
            "Epoch 19/30\n",
            "5/5 [==============================] - 28s 6s/step - loss: 1.6409e-04 - accuracy: 1.0000 - val_loss: 0.0018 - val_accuracy: 1.0000\n",
            "Epoch 20/30\n",
            "5/5 [==============================] - 29s 6s/step - loss: 1.3252e-04 - accuracy: 1.0000 - val_loss: 0.0016 - val_accuracy: 1.0000\n",
            "Epoch 21/30\n",
            "5/5 [==============================] - 26s 6s/step - loss: 1.1460e-04 - accuracy: 1.0000 - val_loss: 0.0014 - val_accuracy: 1.0000\n",
            "Epoch 22/30\n",
            "5/5 [==============================] - 26s 5s/step - loss: 9.8955e-05 - accuracy: 1.0000 - val_loss: 0.0012 - val_accuracy: 1.0000\n",
            "Epoch 23/30\n",
            "5/5 [==============================] - 25s 5s/step - loss: 9.1043e-05 - accuracy: 1.0000 - val_loss: 0.0011 - val_accuracy: 1.0000\n",
            "Epoch 24/30\n",
            "5/5 [==============================] - 25s 5s/step - loss: 7.9389e-05 - accuracy: 1.0000 - val_loss: 9.9168e-04 - val_accuracy: 1.0000\n",
            "Epoch 25/30\n",
            "5/5 [==============================] - 28s 5s/step - loss: 7.3244e-05 - accuracy: 1.0000 - val_loss: 9.0889e-04 - val_accuracy: 1.0000\n",
            "Epoch 26/30\n",
            "5/5 [==============================] - 28s 6s/step - loss: 6.7454e-05 - accuracy: 1.0000 - val_loss: 8.3861e-04 - val_accuracy: 1.0000\n",
            "Epoch 27/30\n",
            "5/5 [==============================] - 29s 7s/step - loss: 6.1386e-05 - accuracy: 1.0000 - val_loss: 7.8438e-04 - val_accuracy: 1.0000\n",
            "Epoch 28/30\n",
            "5/5 [==============================] - 26s 5s/step - loss: 5.7959e-05 - accuracy: 1.0000 - val_loss: 7.3499e-04 - val_accuracy: 1.0000\n",
            "Epoch 29/30\n",
            "5/5 [==============================] - 26s 6s/step - loss: 5.4398e-05 - accuracy: 1.0000 - val_loss: 6.9049e-04 - val_accuracy: 1.0000\n",
            "Epoch 30/30\n",
            "5/5 [==============================] - 28s 5s/step - loss: 5.0710e-05 - accuracy: 1.0000 - val_loss: 6.5422e-04 - val_accuracy: 1.0000\n"
          ]
        }
      ],
      "source": [
        "history = model.fit(train_data, epochs=30, validation_data=validation_data)"
      ]
    },
    {
      "cell_type": "code",
      "execution_count": null,
      "metadata": {
        "id": "g21dMlSOWKas",
        "colab": {
          "base_uri": "https://localhost:8080/",
          "height": 430
        },
        "outputId": "5b552d0b-09d9-4335-8601-1dbbf0f8ed8f"
      },
      "outputs": [
        {
          "output_type": "display_data",
          "data": {
            "text/plain": [
              "<Figure size 640x480 with 1 Axes>"
            ],
            "image/png": "[encoded data removed]"
          },
          "metadata": {}
        }
      ],
      "source": [
        "import matplotlib.pyplot as plt\n",
        "\n",
        "plt.plot(history.history['accuracy'],color='red',label='train')\n",
        "plt.plot(history.history['val_accuracy'],color='blue',label='validation')\n",
        "plt.legend()\n",
        "plt.show()"
      ]
    },
    {
      "cell_type": "code",
      "execution_count": null,
      "metadata": {
        "id": "FYZ0VJp4esXl",
        "colab": {
          "base_uri": "https://localhost:8080/",
          "height": 430
        },
        "outputId": "88b14460-98a8-477c-a9e9-e84f4a65ca58"
      },
      "outputs": [
        {
          "output_type": "display_data",
          "data": {
            "text/plain": [
              "<Figure size 640x480 with 1 Axes>"
            ],
            "image/png": "[encoded data removed]"
          },
          "metadata": {}
        }
      ],
      "source": [
        "plt.plot(history.history['loss'],color='red',label='train')\n",
        "plt.plot(history.history['val_loss'],color='blue',label='validation')\n",
        "plt.legend()\n",
        "plt.show()"
      ]
    },
    {
      "cell_type": "code",
      "execution_count": null,
      "metadata": {
        "id": "tQj_RyrZWBEt",
        "colab": {
          "base_uri": "https://localhost:8080/"
        },
        "outputId": "5c43f8f5-6635-45a7-dcd6-d31aab6aa919"
      },
      "outputs": [
        {
          "output_type": "stream",
          "name": "stdout",
          "text": [
            "Found 280 images belonging to 2 classes.\n"
          ]
        }
      ],
      "source": [
        "test_datagen = ImageDataGenerator(rescale=1./255)\n",
        "test_data = test_datagen.flow_from_directory(\n",
        "    test_dir,\n",
        "    target_size=(256,256),\n",
        "    batch_size=32,\n",
        "    class_mode='binary'\n",
        ")"
      ]
    },
    {
      "cell_type": "code",
      "execution_count": null,
      "metadata": {
        "id": "glicW8_5vTqd",
        "colab": {
          "base_uri": "https://localhost:8080/"
        },
        "outputId": "df0e1819-358b-4d44-d002-2d38547cf303"
      },
      "outputs": [
        {
          "output_type": "stream",
          "name": "stdout",
          "text": [
            "9/9 [==============================] - 20s 2s/step\n",
            "[[1.68245315e-05]\n",
            " [2.82136287e-04]\n",
            " [1.00000000e+00]\n",
            " [3.12800083e-04]\n",
            " [1.21347684e-05]\n",
            " [1.00000000e+00]\n",
            " [3.53042342e-05]\n",
            " [4.39368632e-05]\n",
            " [3.26384225e-07]\n",
            " [1.05159052e-05]\n",
            " [3.75113596e-05]\n",
            " [1.10566252e-04]\n",
            " [2.40416393e-05]\n",
            " [1.00000000e+00]\n",
            " [7.35096983e-05]\n",
            " [9.25324275e-05]\n",
            " [3.15526427e-06]\n",
            " [1.53899800e-05]\n",
            " [3.37659039e-05]\n",
            " [4.47330285e-06]\n",
            " [1.48571519e-06]\n",
            " [2.06702272e-03]\n",
            " [7.43712963e-06]\n",
            " [1.50668959e-04]\n",
            " [1.00000000e+00]\n",
            " [1.35230877e-07]\n",
            " [2.61240576e-08]\n",
            " [2.46163900e-03]\n",
            " [1.15454413e-05]\n",
            " [1.00000000e+00]\n",
            " [9.97953415e-01]\n",
            " [2.32983293e-05]\n",
            " [9.99676168e-01]\n",
            " [3.46888646e-06]\n",
            " [1.00000000e+00]\n",
            " [8.82605818e-05]\n",
            " [1.00000000e+00]\n",
            " [6.93326414e-01]\n",
            " [3.84024531e-02]\n",
            " [1.29960904e-06]\n",
            " [6.80823432e-05]\n",
            " [2.73936275e-05]\n",
            " [3.46643924e-06]\n",
            " [9.99999702e-01]\n",
            " [6.21502113e-04]\n",
            " [9.83665814e-06]\n",
            " [4.83653423e-07]\n",
            " [2.06888617e-05]\n",
            " [1.00000000e+00]\n",
            " [1.28627798e-05]\n",
            " [1.00000000e+00]\n",
            " [1.81071271e-04]\n",
            " [1.00000000e+00]\n",
            " [1.91467290e-04]\n",
            " [2.92939177e-07]\n",
            " [1.01889077e-06]\n",
            " [6.52869676e-06]\n",
            " [2.71695467e-06]\n",
            " [1.00000000e+00]\n",
            " [1.61855751e-05]\n",
            " [9.16557201e-06]\n",
            " [6.36490427e-07]\n",
            " [3.86012762e-05]\n",
            " [3.19568692e-08]\n",
            " [1.00000000e+00]\n",
            " [5.77264075e-07]\n",
            " [4.91203274e-08]\n",
            " [9.47839115e-03]\n",
            " [1.78715979e-07]\n",
            " [2.00596132e-05]\n",
            " [1.51324057e-04]\n",
            " [1.32239700e-04]\n",
            " [4.64097957e-06]\n",
            " [1.00000000e+00]\n",
            " [1.68754891e-01]\n",
            " [1.00000000e+00]\n",
            " [5.72037106e-06]\n",
            " [3.55604561e-06]\n",
            " [1.12350663e-05]\n",
            " [1.15749461e-03]\n",
            " [1.00000000e+00]\n",
            " [5.27228694e-05]\n",
            " [3.05862096e-03]\n",
            " [1.78172177e-05]\n",
            " [3.08820861e-04]\n",
            " [1.56104215e-04]\n",
            " [1.59244209e-05]\n",
            " [4.47103821e-06]\n",
            " [7.26249766e-07]\n",
            " [6.98596168e-08]\n",
            " [2.24417945e-05]\n",
            " [2.02467672e-05]\n",
            " [8.39517103e-04]\n",
            " [4.26686202e-05]\n",
            " [9.24780488e-06]\n",
            " [3.44774912e-06]\n",
            " [7.54139774e-06]\n",
            " [1.00000000e+00]\n",
            " [2.14859128e-07]\n",
            " [3.12706334e-06]\n",
            " [5.35269464e-06]\n",
            " [3.52142047e-06]\n",
            " [6.90061133e-05]\n",
            " [2.66476345e-05]\n",
            " [4.06271465e-05]\n",
            " [6.18478589e-06]\n",
            " [1.97887239e-05]\n",
            " [3.93933760e-07]\n",
            " [1.92649168e-06]\n",
            " [9.46358196e-05]\n",
            " [1.66206868e-04]\n",
            " [6.21739446e-06]\n",
            " [9.98696983e-01]\n",
            " [5.07030491e-05]\n",
            " [4.65960568e-03]\n",
            " [4.99417581e-07]\n",
            " [1.00000000e+00]\n",
            " [2.60535080e-06]\n",
            " [3.60588638e-05]\n",
            " [6.24153415e-07]\n",
            " [1.09318790e-07]\n",
            " [1.56676688e-04]\n",
            " [7.03166734e-08]\n",
            " [3.65408567e-07]\n",
            " [3.02802255e-05]\n",
            " [2.06046352e-07]\n",
            " [2.24953556e-06]\n",
            " [4.20813885e-05]\n",
            " [5.18441038e-06]\n",
            " [1.00000000e+00]\n",
            " [4.38779034e-06]\n",
            " [1.00000000e+00]\n",
            " [3.26796981e-05]\n",
            " [4.65893281e-05]\n",
            " [1.00000000e+00]\n",
            " [1.00000000e+00]\n",
            " [6.31107696e-06]\n",
            " [2.50880512e-05]\n",
            " [1.00000000e+00]\n",
            " [2.68172680e-05]\n",
            " [4.22164976e-06]\n",
            " [1.81444362e-02]\n",
            " [2.23329221e-06]\n",
            " [9.81784751e-07]\n",
            " [9.51019501e-07]\n",
            " [7.95724418e-07]\n",
            " [8.58019666e-06]\n",
            " [9.15512373e-06]\n",
            " [2.29674265e-06]\n",
            " [5.76564227e-04]\n",
            " [6.14272605e-04]\n",
            " [9.19801168e-05]\n",
            " [1.00000000e+00]\n",
            " [4.04556801e-07]\n",
            " [1.00310484e-04]\n",
            " [4.17405863e-05]\n",
            " [1.00000000e+00]\n",
            " [6.33382515e-05]\n",
            " [2.02326391e-05]\n",
            " [2.48912373e-03]\n",
            " [1.40424945e-05]\n",
            " [8.26676551e-05]\n",
            " [1.72274653e-04]\n",
            " [1.48463087e-05]\n",
            " [1.00000000e+00]\n",
            " [3.80740894e-05]\n",
            " [9.60381949e-05]\n",
            " [9.43929263e-05]\n",
            " [8.06925925e-07]\n",
            " [7.62952914e-06]\n",
            " [2.61747414e-06]\n",
            " [8.01446276e-06]\n",
            " [9.72802283e-08]\n",
            " [3.10459691e-05]\n",
            " [4.66171514e-05]\n",
            " [1.05437921e-05]\n",
            " [1.40339525e-05]\n",
            " [9.99999881e-01]\n",
            " [4.41144584e-05]\n",
            " [1.00000000e+00]\n",
            " [1.15752344e-04]\n",
            " [4.13444250e-05]\n",
            " [2.15015871e-06]\n",
            " [6.59749712e-05]\n",
            " [1.00000000e+00]\n",
            " [1.36915105e-05]\n",
            " [5.92978831e-05]\n",
            " [1.46385908e-04]\n",
            " [1.00000000e+00]\n",
            " [2.53635189e-05]\n",
            " [9.99999464e-01]\n",
            " [7.68071277e-06]\n",
            " [1.00000000e+00]\n",
            " [9.99999702e-01]\n",
            " [2.38179928e-04]\n",
            " [1.86952875e-05]\n",
            " [4.23232268e-05]\n",
            " [1.51241984e-04]\n",
            " [1.30896306e-05]\n",
            " [5.20338188e-04]\n",
            " [1.00000000e+00]\n",
            " [2.67544565e-05]\n",
            " [1.00000000e+00]\n",
            " [9.17977374e-03]\n",
            " [1.43520646e-02]\n",
            " [3.42856765e-06]\n",
            " [7.44025829e-06]\n",
            " [2.13435806e-06]\n",
            " [2.27085784e-05]\n",
            " [1.36938240e-07]\n",
            " [7.50357685e-06]\n",
            " [1.36323223e-07]\n",
            " [8.92676413e-04]\n",
            " [4.67086807e-02]\n",
            " [1.00000000e+00]\n",
            " [3.68827954e-04]\n",
            " [4.13304614e-03]\n",
            " [4.92081926e-06]\n",
            " [1.47367609e-05]\n",
            " [3.44617802e-05]\n",
            " [5.80421647e-06]\n",
            " [1.13667302e-05]\n",
            " [2.34844512e-03]\n",
            " [6.55973918e-06]\n",
            " [1.00000000e+00]\n",
            " [5.35456586e-08]\n",
            " [1.98758935e-05]\n",
            " [3.08124872e-05]\n",
            " [9.16540273e-04]\n",
            " [8.31783807e-04]\n",
            " [4.34937647e-05]\n",
            " [1.00000000e+00]\n",
            " [2.16251332e-03]\n",
            " [5.41306617e-05]\n",
            " [1.54959926e-04]\n",
            " [2.51592341e-04]\n",
            " [1.18055289e-06]\n",
            " [1.10959818e-05]\n",
            " [7.17908961e-06]\n",
            " [1.29491367e-04]\n",
            " [5.53319951e-05]\n",
            " [6.43710734e-07]\n",
            " [1.77495349e-06]\n",
            " [1.26204111e-06]\n",
            " [1.00000000e+00]\n",
            " [2.12133746e-03]\n",
            " [5.16615046e-07]\n",
            " [1.00000000e+00]\n",
            " [5.12188161e-03]\n",
            " [2.77472259e-06]\n",
            " [2.15146747e-06]\n",
            " [3.51709082e-06]\n",
            " [2.14576651e-03]\n",
            " [9.25060449e-05]\n",
            " [2.88426294e-04]\n",
            " [3.90276509e-05]\n",
            " [1.00000000e+00]\n",
            " [9.99707937e-01]\n",
            " [1.00000000e+00]\n",
            " [4.80036078e-07]\n",
            " [1.00000000e+00]\n",
            " [1.02965743e-04]\n",
            " [1.52601715e-05]\n",
            " [4.65414723e-06]\n",
            " [1.00000000e+00]\n",
            " [4.02959495e-06]\n",
            " [5.19298774e-05]\n",
            " [1.00000000e+00]\n",
            " [6.44947977e-06]\n",
            " [2.73303590e-06]\n",
            " [1.00000000e+00]\n",
            " [8.34191596e-05]\n",
            " [1.00000000e+00]\n",
            " [5.20680078e-06]\n",
            " [4.64819350e-05]\n",
            " [1.41313067e-05]\n",
            " [2.10145302e-07]\n",
            " [1.09549719e-05]\n",
            " [2.43147544e-04]\n",
            " [1.00567113e-05]]\n"
          ]
        }
      ],
      "source": [
        "#predict the test data\n",
        "predictions = model.predict(test_data)\n",
        "print(predictions)"
      ]
    },
    {
      "cell_type": "code",
      "execution_count": null,
      "metadata": {
        "id": "r7XjnjcNyMbv",
        "colab": {
          "base_uri": "https://localhost:8080/"
        },
        "outputId": "d208056d-b36d-43e8-fd94-9a5ed4ad4b6c"
      },
      "outputs": [
        {
          "output_type": "execute_result",
          "data": {
            "text/plain": [
              "280"
            ]
          },
          "metadata": {},
          "execution_count": 16
        }
      ],
      "source": [
        "len(predictions)"
      ]
    },
    {
      "cell_type": "code",
      "execution_count": null,
      "metadata": {
        "id": "oqqBXpuhyd6x",
        "colab": {
          "base_uri": "https://localhost:8080/"
        },
        "outputId": "4fde3243-92bb-4ba4-a4c9-7712434c8b05"
      },
      "outputs": [
        {
          "output_type": "stream",
          "name": "stdout",
          "text": [
            "Confusion Matrix:\n",
            "[[189  41]\n",
            " [ 39  11]]\n",
            "Classification Report:\n",
            "              precision    recall  f1-score   support\n",
            "\n",
            "           0       0.83      0.82      0.83       230\n",
            "           1       0.21      0.22      0.22        50\n",
            "\n",
            "    accuracy                           0.71       280\n",
            "   macro avg       0.52      0.52      0.52       280\n",
            "weighted avg       0.72      0.71      0.72       280\n",
            "\n"
          ]
        }
      ],
      "source": [
        "from sklearn.metrics import confusion_matrix, classification_report\n",
        "\n",
        "# Assuming you have ground truth labels (true_labels) and predicted labels (predictions)\n",
        "true_labels = test_data.classes\n",
        "predicted_labels = (predictions > 0.5).astype(int)  # Adjust the threshold as needed\n",
        "\n",
        "# Calculate confusion matrix\n",
        "cm = confusion_matrix(true_labels, predicted_labels)\n",
        "\n",
        "# Print confusion matrix\n",
        "print(\"Confusion Matrix:\")\n",
        "print(cm)\n",
        "\n",
        "# Print classification report\n",
        "print(\"Classification Report:\")\n",
        "print(classification_report(true_labels, predicted_labels))"
      ]
    }
  ],
  "metadata": {
    "accelerator": "TPU",
    "colab": {
      "provenance": [],
      "include_colab_link": true
    },
    "kernelspec": {
      "display_name": "Python 3",
      "name": "python3"
    },
    "language_info": {
      "name": "python"
    }
  },
  "nbformat": 4,
  "nbformat_minor": 0
}